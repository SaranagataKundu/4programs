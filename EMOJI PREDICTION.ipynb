{
 "cells": [
  {
   "cell_type": "code",
   "execution_count": 2,
   "id": "b1feb3e6",
   "metadata": {},
   "outputs": [
    {
     "name": "stdout",
     "output_type": "stream",
     "text": [
      "Collecting emoji\n",
      "  Downloading emoji-2.8.0-py2.py3-none-any.whl (358 kB)\n",
      "     -------------------------------------- 358.9/358.9 kB 1.7 MB/s eta 0:00:00\n",
      "Installing collected packages: emoji\n",
      "Successfully installed emoji-2.8.0\n",
      "Note: you may need to restart the kernel to use updated packages.\n"
     ]
    },
    {
     "name": "stderr",
     "output_type": "stream",
     "text": [
      "\n",
      "[notice] A new release of pip available: 22.3.1 -> 23.3.1\n",
      "[notice] To update, run: python.exe -m pip install --upgrade pip\n"
     ]
    }
   ],
   "source": [
    "pip install emoji\n"
   ]
  },
  {
   "cell_type": "code",
   "execution_count": 3,
   "id": "23f544f3",
   "metadata": {},
   "outputs": [
    {
     "name": "stdout",
     "output_type": "stream",
     "text": [
      "Enter a sentence: Let's go for a coffee\n",
      "Predicted Emoji: ☕\n"
     ]
    }
   ],
   "source": [
    "import numpy as np\n",
    "from sklearn.model_selection import train_test_split\n",
    "from sklearn.feature_extraction.text import CountVectorizer\n",
    "from sklearn.svm import SVC\n",
    "from sklearn.pipeline import make_pipeline\n",
    "from sklearn.preprocessing import StandardScaler\n",
    "from sklearn.metrics import accuracy_score\n",
    "import emoji\n",
    "\n",
    "# Sample dataset\n",
    "data = [\n",
    "    (\"I love programming\", \"❤️\"),\n",
    "    (\"Python is amazing\", \"🐍\"),\n",
    "    (\"Let's go for a coffee\", \"☕\"),\n",
    "    (\"I feel sad today\", \"😢\"),\n",
    "    (\"Congratulations on your success\", \"🎉\"),\n",
    "    # Add more examples as needed\n",
    "]\n",
    "\n",
    "# Split the data into training and testing sets\n",
    "texts, labels = zip(*data)\n",
    "X_train, X_test, y_train, y_test = train_test_split(texts, labels, test_size=0.2, random_state=42)\n",
    "\n",
    "# Create a pipeline with a CountVectorizer and Support Vector Machine (SVM) classifier\n",
    "model = make_pipeline(CountVectorizer(), StandardScaler(with_mean=False), SVC(kernel='linear'))\n",
    "\n",
    "# Train the model\n",
    "model.fit(X_train, y_train)\n",
    "\n",
    "# Make predictions on the test set\n",
    "y_pred = model.predict(X_test)\n",
    "\n",
    "\n",
    "# Example usage\n",
    "def predict_emoji(text):\n",
    "    prediction = model.predict([text])\n",
    "    return emoji.emojize(prediction[0])\n",
    "\n",
    "# Test the model with new input\n",
    "user_input = input(\"Enter a sentence: \")\n",
    "predicted_emoji = predict_emoji(user_input)\n",
    "print(f\"Predicted Emoji: {predicted_emoji}\")\n"
   ]
  }
 ],
 "metadata": {
  "kernelspec": {
   "display_name": "Python 3 (ipykernel)",
   "language": "python",
   "name": "python3"
  },
  "language_info": {
   "codemirror_mode": {
    "name": "ipython",
    "version": 3
   },
   "file_extension": ".py",
   "mimetype": "text/x-python",
   "name": "python",
   "nbconvert_exporter": "python",
   "pygments_lexer": "ipython3",
   "version": "3.9.7"
  }
 },
 "nbformat": 4,
 "nbformat_minor": 5
}
