{
 "cells": [
  {
   "cell_type": "code",
   "execution_count": 2,
   "id": "899e3479",
   "metadata": {},
   "outputs": [
    {
     "name": "stdout",
     "output_type": "stream",
     "text": [
      "Generated Password: A7fX&Z0T:t,{\n"
     ]
    }
   ],
   "source": [
    "import random\n",
    "import string\n",
    "\n",
    "def generate_password(length=12):\n",
    "    # Define the characters to use for password generation\n",
    "    characters = string.ascii_letters + string.digits + string.punctuation\n",
    "\n",
    "    # Generate a random password using the defined characters\n",
    "    password = ''.join(random.choice(characters) for _ in range(length))\n",
    "\n",
    "    return password\n",
    "\n",
    "# Example: Generate a password with default length (12 characters)\n",
    "password = generate_password()\n",
    "print(\"Generated Password:\", password)\n"
   ]
  }
 ],
 "metadata": {
  "kernelspec": {
   "display_name": "Python 3 (ipykernel)",
   "language": "python",
   "name": "python3"
  },
  "language_info": {
   "codemirror_mode": {
    "name": "ipython",
    "version": 3
   },
   "file_extension": ".py",
   "mimetype": "text/x-python",
   "name": "python",
   "nbconvert_exporter": "python",
   "pygments_lexer": "ipython3",
   "version": "3.9.7"
  }
 },
 "nbformat": 4,
 "nbformat_minor": 5
}
